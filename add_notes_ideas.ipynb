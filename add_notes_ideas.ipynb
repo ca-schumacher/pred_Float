{
 "cells": [
  {
   "cell_type": "markdown",
   "metadata": {},
   "source": [
    "# Notes and further Ideas\n",
    "\n",
    "This notebook refers to the main analysis file 'data_analysis'"
   ]
  },
  {
   "cell_type": "markdown",
   "metadata": {},
   "source": [
    "Based on the documentation of the dataset, some columns are sampled every 20 seconds, some every hour. Therefore we will mean data for every our and create a new dataframe, which also includes the standard deviation of the meaned columns."
   ]
  },
  {
   "cell_type": "code",
   "execution_count": null,
   "metadata": {},
   "outputs": [],
   "source": [
    "df_mean = df.copy()\n",
    "mean_grpby = df_mean.groupby(['date']).mean() # calculate mean\n",
    "std_grpby = df_mean.groupby(['date']).std() # calculate std\n",
    "std_grpby = std_grpby.loc[:, (std_grpby != 0).any(axis=0)] # delete null columns\n",
    "std_grpby = std_grpby.add_prefix('STD_') # add prefix\n",
    "df_merge = pd.merge(mean_grpby, std_grpby, on='date')\n",
    "df_merge.describe()"
   ]
  },
  {
   "cell_type": "markdown",
   "metadata": {},
   "source": [
    "Removing features (will small feature importance), training the model and evaluating it:"
   ]
  },
  {
   "cell_type": "code",
   "execution_count": null,
   "metadata": {},
   "outputs": [],
   "source": [
    "cols_rem = ['Starch Flow', 'Ore Pulp Flow', 'Ore Pulp Density', 'Flotation Column 01 Air Flow', 'Flotation Column 02 Air Flow', 'Flotation Column 03 Air Flow', 'Flotation Column 04 Air Flow', 'Flotation Column 05 Air Flow', 'Flotation Column 06 Air Flow',\n",
    " 'Flotation Column 07 Air Flow', 'Flotation Column 01 Level', 'Flotation Column 02 Level', 'Flotation Column 04 Level', 'Flotation Column 05 Level', 'Flotation Column 06 Level', 'Flotation Column 07 Level']\n",
    "x_keep = x.drop(cols_rem, 1, inplace=None)\n",
    "model.fit(x_keep,y)"
   ]
  },
  {
   "cell_type": "code",
   "execution_count": null,
   "metadata": {},
   "outputs": [],
   "source": [
    "y_hat = model.predict(x_keep)\n",
    "mse = metrics.mean_squared_error(y,y_hat)\n",
    "print('Reduced Train Set')\n",
    "print('RMSE:',math.sqrt(mse),'   R2:',model.score(x_keep,y))"
   ]
  },
  {
   "cell_type": "code",
   "execution_count": null,
   "metadata": {},
   "outputs": [],
   "source": [
    "x_test = test.drop('% Silica Concentrate', axis=1)\n",
    "x_test_keep = x_test.drop(cols_rem, 1, inplace=None)\n",
    "y_test = test['% Silica Concentrate']\n",
    "y_hat_test = model.predict(x_test_keep)\n",
    "mse_test = metrics.mean_squared_error(y_test,y_hat_test)\n",
    "print('Reduced TEST Set')\n",
    "print('RMSE:',math.sqrt(mse_test),'   R2:',model.score(x_test_keep,y_test))"
   ]
  },
  {
   "cell_type": "code",
   "execution_count": null,
   "metadata": {},
   "outputs": [],
   "source": []
  },
  {
   "cell_type": "code",
   "execution_count": null,
   "metadata": {},
   "outputs": [],
   "source": []
  }
 ],
 "metadata": {
  "kernelspec": {
   "display_name": "Python 3",
   "language": "python",
   "name": "python3"
  },
  "language_info": {
   "codemirror_mode": {
    "name": "ipython",
    "version": 3
   },
   "file_extension": ".py",
   "mimetype": "text/x-python",
   "name": "python",
   "nbconvert_exporter": "python",
   "pygments_lexer": "ipython3",
   "version": "3.7.3"
  }
 },
 "nbformat": 4,
 "nbformat_minor": 2
}
